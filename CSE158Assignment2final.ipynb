{
 "cells": [
  {
   "cell_type": "code",
   "execution_count": 1,
   "metadata": {
    "collapsed": true
   },
   "outputs": [],
   "source": [
    "%matplotlib inline\n",
    "import numpy as np\n",
    "import pandas as pd\n",
    "import matplotlib.pyplot as plt\n",
    "import urllib\n",
    "import scipy.optimize\n",
    "import random\n",
    "from sklearn import svm\n",
    "from sklearn import linear_model\n",
    "from collections import defaultdict\n",
    "import math\n",
    "from sklearn.neural_network import MLPClassifier\n",
    "from sklearn.ensemble import RandomForestClassifier\n",
    "from sklearn.naive_bayes import GaussianNB\n",
    "import matplotlib.pyplot as plt"
   ]
  },
  {
   "cell_type": "code",
   "execution_count": 2,
   "metadata": {
    "collapsed": true
   },
   "outputs": [],
   "source": [
    "df = pd.read_csv('events.csv')\n",
    "#df.head(20)"
   ]
  },
  {
   "cell_type": "code",
   "execution_count": 3,
   "metadata": {},
   "outputs": [
    {
     "data": {
      "text/html": [
       "<div>\n",
       "<style>\n",
       "    .dataframe thead tr:only-child th {\n",
       "        text-align: right;\n",
       "    }\n",
       "\n",
       "    .dataframe thead th {\n",
       "        text-align: left;\n",
       "    }\n",
       "\n",
       "    .dataframe tbody tr th {\n",
       "        vertical-align: top;\n",
       "    }\n",
       "</style>\n",
       "<table border=\"1\" class=\"dataframe\">\n",
       "  <thead>\n",
       "    <tr style=\"text-align: right;\">\n",
       "      <th></th>\n",
       "      <th>id_odsp</th>\n",
       "      <th>id_event</th>\n",
       "      <th>sort_order</th>\n",
       "      <th>time</th>\n",
       "      <th>text</th>\n",
       "      <th>event_type</th>\n",
       "      <th>event_type2</th>\n",
       "      <th>side</th>\n",
       "      <th>event_team</th>\n",
       "      <th>opponent</th>\n",
       "      <th>...</th>\n",
       "      <th>player_in</th>\n",
       "      <th>player_out</th>\n",
       "      <th>shot_place</th>\n",
       "      <th>shot_outcome</th>\n",
       "      <th>is_goal</th>\n",
       "      <th>location</th>\n",
       "      <th>bodypart</th>\n",
       "      <th>assist_method</th>\n",
       "      <th>situation</th>\n",
       "      <th>fast_break</th>\n",
       "    </tr>\n",
       "  </thead>\n",
       "  <tbody>\n",
       "    <tr>\n",
       "      <th>0</th>\n",
       "      <td>UFot0hit/</td>\n",
       "      <td>UFot0hit1</td>\n",
       "      <td>1</td>\n",
       "      <td>2</td>\n",
       "      <td>Attempt missed. Mladen Petric (Hamburg) left f...</td>\n",
       "      <td>1</td>\n",
       "      <td>12.0</td>\n",
       "      <td>2</td>\n",
       "      <td>Hamburg SV</td>\n",
       "      <td>Borussia Dortmund</td>\n",
       "      <td>...</td>\n",
       "      <td>NaN</td>\n",
       "      <td>NaN</td>\n",
       "      <td>6.0</td>\n",
       "      <td>2.0</td>\n",
       "      <td>0</td>\n",
       "      <td>9.0</td>\n",
       "      <td>2.0</td>\n",
       "      <td>1</td>\n",
       "      <td>1.0</td>\n",
       "      <td>0</td>\n",
       "    </tr>\n",
       "    <tr>\n",
       "      <th>11</th>\n",
       "      <td>UFot0hit/</td>\n",
       "      <td>UFot0hit12</td>\n",
       "      <td>12</td>\n",
       "      <td>14</td>\n",
       "      <td>Attempt missed. Shinji Kagawa (Borussia Dortmu...</td>\n",
       "      <td>1</td>\n",
       "      <td>12.0</td>\n",
       "      <td>1</td>\n",
       "      <td>Borussia Dortmund</td>\n",
       "      <td>Hamburg SV</td>\n",
       "      <td>...</td>\n",
       "      <td>NaN</td>\n",
       "      <td>NaN</td>\n",
       "      <td>13.0</td>\n",
       "      <td>2.0</td>\n",
       "      <td>0</td>\n",
       "      <td>15.0</td>\n",
       "      <td>1.0</td>\n",
       "      <td>1</td>\n",
       "      <td>1.0</td>\n",
       "      <td>0</td>\n",
       "    </tr>\n",
       "    <tr>\n",
       "      <th>13</th>\n",
       "      <td>UFot0hit/</td>\n",
       "      <td>UFot0hit14</td>\n",
       "      <td>14</td>\n",
       "      <td>17</td>\n",
       "      <td>Goal!  Borussia Dortmund 1, Hamburg 0. Kevin G...</td>\n",
       "      <td>1</td>\n",
       "      <td>12.0</td>\n",
       "      <td>1</td>\n",
       "      <td>Borussia Dortmund</td>\n",
       "      <td>Hamburg SV</td>\n",
       "      <td>...</td>\n",
       "      <td>NaN</td>\n",
       "      <td>NaN</td>\n",
       "      <td>4.0</td>\n",
       "      <td>1.0</td>\n",
       "      <td>1</td>\n",
       "      <td>9.0</td>\n",
       "      <td>2.0</td>\n",
       "      <td>1</td>\n",
       "      <td>1.0</td>\n",
       "      <td>0</td>\n",
       "    </tr>\n",
       "    <tr>\n",
       "      <th>14</th>\n",
       "      <td>UFot0hit/</td>\n",
       "      <td>UFot0hit15</td>\n",
       "      <td>15</td>\n",
       "      <td>19</td>\n",
       "      <td>Attempt blocked. Mats Hummels (Borussia Dortmu...</td>\n",
       "      <td>1</td>\n",
       "      <td>NaN</td>\n",
       "      <td>1</td>\n",
       "      <td>Borussia Dortmund</td>\n",
       "      <td>Hamburg SV</td>\n",
       "      <td>...</td>\n",
       "      <td>NaN</td>\n",
       "      <td>NaN</td>\n",
       "      <td>2.0</td>\n",
       "      <td>3.0</td>\n",
       "      <td>0</td>\n",
       "      <td>15.0</td>\n",
       "      <td>1.0</td>\n",
       "      <td>0</td>\n",
       "      <td>1.0</td>\n",
       "      <td>0</td>\n",
       "    </tr>\n",
       "    <tr>\n",
       "      <th>17</th>\n",
       "      <td>UFot0hit/</td>\n",
       "      <td>UFot0hit18</td>\n",
       "      <td>18</td>\n",
       "      <td>20</td>\n",
       "      <td>Attempt blocked. Tomas Rincon (Hamburg) right ...</td>\n",
       "      <td>1</td>\n",
       "      <td>NaN</td>\n",
       "      <td>2</td>\n",
       "      <td>Hamburg SV</td>\n",
       "      <td>Borussia Dortmund</td>\n",
       "      <td>...</td>\n",
       "      <td>NaN</td>\n",
       "      <td>NaN</td>\n",
       "      <td>2.0</td>\n",
       "      <td>3.0</td>\n",
       "      <td>0</td>\n",
       "      <td>15.0</td>\n",
       "      <td>1.0</td>\n",
       "      <td>0</td>\n",
       "      <td>1.0</td>\n",
       "      <td>0</td>\n",
       "    </tr>\n",
       "  </tbody>\n",
       "</table>\n",
       "<p>5 rows × 22 columns</p>\n",
       "</div>"
      ],
      "text/plain": [
       "      id_odsp    id_event  sort_order  time  \\\n",
       "0   UFot0hit/   UFot0hit1           1     2   \n",
       "11  UFot0hit/  UFot0hit12          12    14   \n",
       "13  UFot0hit/  UFot0hit14          14    17   \n",
       "14  UFot0hit/  UFot0hit15          15    19   \n",
       "17  UFot0hit/  UFot0hit18          18    20   \n",
       "\n",
       "                                                 text  event_type  \\\n",
       "0   Attempt missed. Mladen Petric (Hamburg) left f...           1   \n",
       "11  Attempt missed. Shinji Kagawa (Borussia Dortmu...           1   \n",
       "13  Goal!  Borussia Dortmund 1, Hamburg 0. Kevin G...           1   \n",
       "14  Attempt blocked. Mats Hummels (Borussia Dortmu...           1   \n",
       "17  Attempt blocked. Tomas Rincon (Hamburg) right ...           1   \n",
       "\n",
       "    event_type2  side         event_team           opponent     ...      \\\n",
       "0          12.0     2         Hamburg SV  Borussia Dortmund     ...       \n",
       "11         12.0     1  Borussia Dortmund         Hamburg SV     ...       \n",
       "13         12.0     1  Borussia Dortmund         Hamburg SV     ...       \n",
       "14          NaN     1  Borussia Dortmund         Hamburg SV     ...       \n",
       "17          NaN     2         Hamburg SV  Borussia Dortmund     ...       \n",
       "\n",
       "   player_in player_out shot_place shot_outcome  is_goal  location  bodypart  \\\n",
       "0        NaN        NaN        6.0          2.0        0       9.0       2.0   \n",
       "11       NaN        NaN       13.0          2.0        0      15.0       1.0   \n",
       "13       NaN        NaN        4.0          1.0        1       9.0       2.0   \n",
       "14       NaN        NaN        2.0          3.0        0      15.0       1.0   \n",
       "17       NaN        NaN        2.0          3.0        0      15.0       1.0   \n",
       "\n",
       "    assist_method  situation  fast_break  \n",
       "0               1        1.0           0  \n",
       "11              1        1.0           0  \n",
       "13              1        1.0           0  \n",
       "14              0        1.0           0  \n",
       "17              0        1.0           0  \n",
       "\n",
       "[5 rows x 22 columns]"
      ]
     },
     "execution_count": 3,
     "metadata": {},
     "output_type": "execute_result"
    }
   ],
   "source": [
    "filtered_df = df[df[\"event_type\"] == 1]\n",
    "filtered_df.head(5)"
   ]
  },
  {
   "cell_type": "code",
   "execution_count": 42,
   "metadata": {
    "collapsed": true
   },
   "outputs": [],
   "source": [
    "filtered_df = filtered_df[filtered_df[\"event_type2\"] != 15]\n",
    "#len(filtered_df)"
   ]
  },
  {
   "cell_type": "code",
   "execution_count": 43,
   "metadata": {
    "collapsed": true
   },
   "outputs": [],
   "source": [
    "filtered_df = filtered_df[filtered_df['time'].notnull()]\n",
    "#len(filtered_df)"
   ]
  },
  {
   "cell_type": "code",
   "execution_count": 44,
   "metadata": {
    "collapsed": true
   },
   "outputs": [],
   "source": [
    "filtered_df = filtered_df[filtered_df['player'].notnull()]\n",
    "#len(filtered_df)"
   ]
  },
  {
   "cell_type": "code",
   "execution_count": 45,
   "metadata": {
    "collapsed": true
   },
   "outputs": [],
   "source": [
    "filtered_df = filtered_df[filtered_df['event_team'].notnull()]\n",
    "#len(filtered_df)"
   ]
  },
  {
   "cell_type": "code",
   "execution_count": 46,
   "metadata": {
    "collapsed": true
   },
   "outputs": [],
   "source": [
    "filtered_df = filtered_df[filtered_df['opponent'].notnull()]\n",
    "#len(filtered_df)"
   ]
  },
  {
   "cell_type": "code",
   "execution_count": 47,
   "metadata": {
    "collapsed": true
   },
   "outputs": [],
   "source": [
    "filtered_df = filtered_df[filtered_df['side'].notnull()]\n",
    "#len(filtered_df)"
   ]
  },
  {
   "cell_type": "code",
   "execution_count": 48,
   "metadata": {
    "collapsed": true
   },
   "outputs": [],
   "source": [
    "filtered_df = filtered_df[filtered_df['shot_place'].notnull()]\n",
    "#len(filtered_df)"
   ]
  },
  {
   "cell_type": "code",
   "execution_count": 49,
   "metadata": {
    "collapsed": true
   },
   "outputs": [],
   "source": [
    "filtered_df = filtered_df[filtered_df['location'].notnull()]\n",
    "#len(filtered_df)"
   ]
  },
  {
   "cell_type": "code",
   "execution_count": 50,
   "metadata": {
    "collapsed": true
   },
   "outputs": [],
   "source": [
    "filtered_df = filtered_df[filtered_df['bodypart'].notnull()]\n",
    "#len(filtered_df)"
   ]
  },
  {
   "cell_type": "code",
   "execution_count": 51,
   "metadata": {
    "collapsed": true
   },
   "outputs": [],
   "source": [
    "filtered_df = filtered_df[filtered_df['assist_method'].notnull()]\n",
    "#len(filtered_df)"
   ]
  },
  {
   "cell_type": "code",
   "execution_count": 52,
   "metadata": {
    "collapsed": true
   },
   "outputs": [],
   "source": [
    "filtered_df = filtered_df[filtered_df['situation'].notnull()]\n",
    "#len(filtered_df)"
   ]
  },
  {
   "cell_type": "code",
   "execution_count": 53,
   "metadata": {},
   "outputs": [
    {
     "data": {
      "text/plain": [
       "<matplotlib.axes._subplots.AxesSubplot at 0x4efb2e48>"
      ]
     },
     "execution_count": 53,
     "metadata": {},
     "output_type": "execute_result"
    },
    {
     "data": {
      "image/png": "[encoded data removed]",
      "text/plain": [
       "<matplotlib.figure.Figure at 0x8f7db00>"
      ]
     },
     "metadata": {},
     "output_type": "display_data"
    }
   ],
   "source": [
    "goals = filtered_df[filtered_df['is_goal'] == 1]\n",
    "plt.figure();\n",
    "goals['time'].plot.hist(bins=100, figsize=(15,5))"
   ]
  },
  {
   "cell_type": "code",
   "execution_count": 54,
   "metadata": {},
   "outputs": [
    {
     "data": {
      "text/plain": [
       "([<matplotlib.axis.XTick at 0x2177a5c0>,\n",
       "  <matplotlib.axis.XTick at 0x45691080>,\n",
       "  <matplotlib.axis.XTick at 0x44cfa320>,\n",
       "  <matplotlib.axis.XTick at 0x47538160>,\n",
       "  <matplotlib.axis.XTick at 0x47538588>,\n",
       "  <matplotlib.axis.XTick at 0x475389b0>,\n",
       "  <matplotlib.axis.XTick at 0x47538dd8>,\n",
       "  <matplotlib.axis.XTick at 0x2486ac18>,\n",
       "  <matplotlib.axis.XTick at 0x4754ef60>,\n",
       "  <matplotlib.axis.XTick at 0x44cc73c8>,\n",
       "  <matplotlib.axis.XTick at 0x44cc77f0>,\n",
       "  <matplotlib.axis.XTick at 0x44cc7c50>,\n",
       "  <matplotlib.axis.XTick at 0x4752f0f0>],\n",
       " <a list of 13 Text xticklabel objects>)"
      ]
     },
     "execution_count": 54,
     "metadata": {},
     "output_type": "execute_result"
    },
    {
     "data": {
      "image/png": "[encoded data removed]",
      "text/plain": [
       "<matplotlib.figure.Figure at 0x2486af28>"
      ]
     },
     "metadata": {},
     "output_type": "display_data"
    }
   ],
   "source": [
    "goals['shot_place'].plot.hist(bins=13, figsize=(10,5));\n",
    "plt.xticks([1,2,3,4,5,6,7,8,9,10,11,12,13])"
   ]
  },
  {
   "cell_type": "code",
   "execution_count": 55,
   "metadata": {},
   "outputs": [
    {
     "data": {
      "text/plain": [
       "([<matplotlib.axis.XTick at 0x44cefda0>,\n",
       "  <matplotlib.axis.XTick at 0x1cec7860>,\n",
       "  <matplotlib.axis.XTick at 0x46b597f0>,\n",
       "  <matplotlib.axis.XTick at 0x3f2c15f8>,\n",
       "  <matplotlib.axis.XTick at 0x3f2c1a20>,\n",
       "  <matplotlib.axis.XTick at 0x3f2c1e48>,\n",
       "  <matplotlib.axis.XTick at 0x4789c2b0>,\n",
       "  <matplotlib.axis.XTick at 0x4789c6d8>,\n",
       "  <matplotlib.axis.XTick at 0x44cc7588>,\n",
       "  <matplotlib.axis.XTick at 0x478a6588>,\n",
       "  <matplotlib.axis.XTick at 0x3f2df240>,\n",
       "  <matplotlib.axis.XTick at 0x3f2df668>,\n",
       "  <matplotlib.axis.XTick at 0x3f2dfac8>],\n",
       " <a list of 13 Text xticklabel objects>)"
      ]
     },
     "execution_count": 55,
     "metadata": {},
     "output_type": "execute_result"
    },
    {
     "data": {
      "image/png": "[encoded data removed]",
      "text/plain": [
       "<matplotlib.figure.Figure at 0x9a8d6d8>"
      ]
     },
     "metadata": {},
     "output_type": "display_data"
    }
   ],
   "source": [
    "filtered_df['shot_place'].plot.hist(bins=13,figsize=(10,5))\n",
    "plt.xticks([1,2,3,4,5,6,7,8,9,10,11,12,13])"
   ]
  },
  {
   "cell_type": "code",
   "execution_count": 56,
   "metadata": {},
   "outputs": [
    {
     "data": {
      "text/plain": [
       "([<matplotlib.axis.XTick at 0x478b5c50>,\n",
       "  <matplotlib.axis.XTick at 0x3f2c11d0>,\n",
       "  <matplotlib.axis.XTick at 0x478d0c18>,\n",
       "  <matplotlib.axis.XTick at 0x4a7a6048>,\n",
       "  <matplotlib.axis.XTick at 0x4eff9c88>,\n",
       "  <matplotlib.axis.XTick at 0x4a7a6748>,\n",
       "  <matplotlib.axis.XTick at 0x4a7a6b70>,\n",
       "  <matplotlib.axis.XTick at 0x4a7a6f98>,\n",
       "  <matplotlib.axis.XTick at 0x4a7b1438>,\n",
       "  <matplotlib.axis.XTick at 0x4a7b1898>,\n",
       "  <matplotlib.axis.XTick at 0x46b48358>,\n",
       "  <matplotlib.axis.XTick at 0x4a7a2208>,\n",
       "  <matplotlib.axis.XTick at 0x4a7a2630>,\n",
       "  <matplotlib.axis.XTick at 0x4a7a2a58>,\n",
       "  <matplotlib.axis.XTick at 0x4a7a2eb8>,\n",
       "  <matplotlib.axis.XTick at 0x4a7cf358>,\n",
       "  <matplotlib.axis.XTick at 0x4a7cf7b8>,\n",
       "  <matplotlib.axis.XTick at 0x4a7cfc18>,\n",
       "  <matplotlib.axis.XTick at 0x4a7db0b8>,\n",
       "  <matplotlib.axis.XTick at 0x4a7b10b8>],\n",
       " <a list of 20 Text xticklabel objects>)"
      ]
     },
     "execution_count": 56,
     "metadata": {},
     "output_type": "execute_result"
    },
    {
     "data": {
      "image/png": "[encoded data removed]",
      "text/plain": [
       "<matplotlib.figure.Figure at 0x46b3d208>"
      ]
     },
     "metadata": {},
     "output_type": "display_data"
    }
   ],
   "source": [
    "goals['location'].plot.hist(bins=20,figsize=(10,7))\n",
    "plt.xticks([1,2,3,4,5,6,7,8,9,10,11,12,13,14,15,16,17,18,19,20])"
   ]
  },
  {
   "cell_type": "code",
   "execution_count": 57,
   "metadata": {
    "collapsed": true
   },
   "outputs": [],
   "source": [
    "sample = filtered_df.sample(frac=1)\n",
    "#sample.head()"
   ]
  },
  {
   "cell_type": "code",
   "execution_count": 58,
   "metadata": {
    "collapsed": true
   },
   "outputs": [],
   "source": [
    "X_train = []\n",
    "X_validation = []\n",
    "X_test = []\n",
    "\n",
    "length = int(len(sample) / 3)\n",
    "\n",
    "X_train = sample[:length]\n",
    "X_validation = sample[length:length*2]\n",
    "X_test = sample[length*2:]\n",
    "\n",
    "X_train_goals = X_train[X_train['is_goal'] == 1]\n",
    "X_train_nongoals = X_train[X_train['is_goal'] == 0]"
   ]
  },
  {
   "cell_type": "code",
   "execution_count": 59,
   "metadata": {},
   "outputs": [
    {
     "data": {
      "text/plain": [
       "14912"
      ]
     },
     "execution_count": 59,
     "metadata": {},
     "output_type": "execute_result"
    }
   ],
   "source": [
    "X_train_nongoals = X_train_nongoals[:len(X_train_goals)]\n",
    "frames = [X_train_nongoals, X_train_goals]\n",
    "X_train = pd.concat(frames)\n",
    "len(X_train)"
   ]
  },
  {
   "cell_type": "code",
   "execution_count": 60,
   "metadata": {
    "collapsed": true
   },
   "outputs": [],
   "source": [
    "team_dict = defaultdict(int)\n",
    "player_dict_goals = defaultdict(int)\n",
    "player_dict_shots = defaultdict(int)\n",
    "player_dict = defaultdict(int)\n",
    "team_count = 0\n",
    "player_count = 0\n",
    "count = 0\n",
    "for index, row in sample.iterrows():\n",
    "    team1 = row['event_team']\n",
    "    team2 = row['opponent']\n",
    "    player = row['player']\n",
    "    is_goal = row['is_goal']\n",
    "    if (team1 not in team_dict):\n",
    "        team_dict[team1] = team_count\n",
    "        team_count += 1\n",
    "    if (team2 not in team_dict):\n",
    "        team_dict[team2] = team_count\n",
    "        team_count += 1\n",
    "    if (player not in player_dict):\n",
    "        player_dict[player] = player_count\n",
    "        player_count += 1\n",
    "    \n",
    "    player_dict_shots[player] += 1\n",
    "    player_dict_goals[player] += is_goal"
   ]
  },
  {
   "cell_type": "code",
   "execution_count": 61,
   "metadata": {
    "collapsed": true
   },
   "outputs": [],
   "source": [
    "team_dict = defaultdict(int)\n",
    "team_dict_shots = defaultdict(int)\n",
    "team_dict_goals = defaultdict(int)\n",
    "team_dict_shots_conceded = defaultdict(int)\n",
    "team_dict_goals_conceded = defaultdict(int)\n",
    "player_dict_goals = defaultdict(int)\n",
    "player_dict_shots = defaultdict(int)\n",
    "player_dict = defaultdict(int)\n",
    "team_count = 0\n",
    "player_count = 0\n",
    "count = 0\n",
    "for index, row in sample.iterrows():\n",
    "    team1 = row['event_team']\n",
    "    team2 = row['opponent']\n",
    "    player = row['player']\n",
    "    is_goal = row['is_goal']\n",
    "    if (team1 not in team_dict):\n",
    "        team_dict[team1] = team_count\n",
    "        team_count += 1\n",
    "    if (team2 not in team_dict):\n",
    "        team_dict[team2] = team_count\n",
    "        team_count += 1\n",
    "    if (player not in player_dict):\n",
    "        player_dict[player] = player_count\n",
    "        player_count += 1\n",
    "    team_dict_shots_conceded[team2] += 1\n",
    "    team_dict_goals_conceded[team2] += is_goal\n",
    "    team_dict_shots[team1] += 1\n",
    "    team_dict_goals[team1] += is_goal\n",
    "    player_dict_shots[player] += 1\n",
    "    player_dict_goals[player] += is_goal"
   ]
  },
  {
   "cell_type": "code",
   "execution_count": 65,
   "metadata": {
    "collapsed": true
   },
   "outputs": [],
   "source": [
    "##############\n",
    "##############\n",
    "##############\n",
    "#MY CODE BELOW\n",
    "##############\n",
    "##############\n",
    "##############"
   ]
  },
  {
   "cell_type": "code",
   "execution_count": 62,
   "metadata": {
    "collapsed": true
   },
   "outputs": [],
   "source": [
    "def feature(datum):\n",
    "    feat = []\n",
    "    \n",
    "    # player\n",
    "    player = datum['player']\n",
    "    #player goal percentage\n",
    "    shot_perc = 0\n",
    "    if player_dict_goals[player] != 0:\n",
    "        shot_perc = player_dict_shots[player]/player_dict_goals[player]\n",
    "    #team\n",
    "    team = datum['event_team']\n",
    "    #team goal percentage\n",
    "    team_shot_perc = 0\n",
    "    if team_dict_goals[team] != 0:\n",
    "        team_shot_perc = team_dict_shots[team]/team_dict_goals[team]\n",
    "    #opponent\n",
    "    opponent = datum['opponent']\n",
    "    #opponent goal percentage conceded\n",
    "    opp_shot_perc = 0\n",
    "    if team_dict_goals_conceded[opponent] != 0:\n",
    "        opp_shot_perc = team_dict_goals_conceded[opponent]/team_dict_shots_conceded[opponent]\n",
    "        \n",
    "    opp_team_ratio = 0\n",
    "    if opp_shot_perc !=0:\n",
    "        opp_team_ratio = team_shot_perc/opp_shot_perc\n",
    "    \n",
    "    #feat = [shot_perc, datum['time'], datum['shot_place'], datum['location'], datum['bodypart'], datum['assist_method'], datum['situation']]\n",
    "    feat = [shot_perc, team_dict_goals[team], team_dict_goals_conceded[opponent], datum['time'], datum['shot_place'], datum['location'], datum['bodypart'], datum['assist_method'], datum['situation']]\n",
    "\n",
    "    return feat\n",
    "\n",
    "X_train_SVM = [feature(d) for index, d in X_train.iterrows()]\n",
    "Y_train_SVM =[d['is_goal'] == 1 for index, d in X_train.iterrows()]\n",
    "\n",
    "X_validation_SVM = [feature(d) for index, d in X_validation.iterrows()]\n",
    "Y_validation_SVM =[d['is_goal'] == 1 for index, d in X_validation.iterrows()]"
   ]
  },
  {
   "cell_type": "code",
   "execution_count": 63,
   "metadata": {},
   "outputs": [
    {
     "name": "stdout",
     "output_type": "stream",
     "text": [
      "Train accuracy: 0.957685085837\n",
      "Validation accuracy: 0.855565376852\n",
      "Test accuracy: 0.853867363227\n"
     ]
    }
   ],
   "source": [
    "# Create a support vector classifier object, with regularization parameter C = 1000\n",
    "#clf = svm.LinearSVC(C=1)\n",
    "clf = RandomForestClassifier(max_depth=16, random_state=0)\n",
    "#clf = linear_model.LogisticRegression(C=0.1)\n",
    "#clf = MLPClassifier(solver='lbfgs', alpha=1e-5,\n",
    " #                   hidden_layer_sizes=(5, 2), random_state=1)\n",
    "clf.fit(X_train_SVM, Y_train_SVM)\n",
    "\n",
    "train_predictions = clf.predict(X_train_SVM)\n",
    "\n",
    "correct = 0\n",
    "current = 0\n",
    "for pred in train_predictions:\n",
    "    if pred == Y_train_SVM[current]:\n",
    "        correct += 1\n",
    "    current += 1\n",
    "accuracy = correct * 1.0/len(train_predictions)\n",
    "print('Train accuracy: ' + str(accuracy))\n",
    "\n",
    "\n",
    "validation_predictions = clf.predict(X_validation_SVM)\n",
    "\n",
    "correct = 0\n",
    "current = 0\n",
    "for pred in validation_predictions:\n",
    "    if pred == Y_validation_SVM[current]:\n",
    "        correct += 1\n",
    "    current += 1\n",
    "accuracy = correct * 1.0/len(validation_predictions)\n",
    "print('Validation accuracy: ' + str(accuracy))\n",
    "\n",
    "X_test_SVM = [feature(d) for index, d in X_test.iterrows()]\n",
    "Y_test_SVM =[d['is_goal'] == 1 for index, d in X_test.iterrows()]\n",
    "\n",
    "test_predictions = clf.predict(X_test_SVM)\n",
    "\n",
    "correct = 0\n",
    "current = 0\n",
    "for pred in test_predictions:\n",
    "    if pred == Y_test_SVM[current]:\n",
    "        correct += 1\n",
    "    current += 1\n",
    "accuracy = correct * 1.0/len(test_predictions)\n",
    "print('Test accuracy: ' + str(accuracy))"
   ]
  },
  {
   "cell_type": "code",
   "execution_count": 64,
   "metadata": {
    "scrolled": true
   },
   "outputs": [
    {
     "data": {
      "text/plain": [
       "array([ 0.06183031,  0.04035749,  0.04309516,  0.0462748 ,  0.61737219,\n",
       "        0.13088107,  0.01285733,  0.02028341,  0.02704825])"
      ]
     },
     "execution_count": 64,
     "metadata": {},
     "output_type": "execute_result"
    }
   ],
   "source": [
    "clf.feature_importances_"
   ]
  },
  {
   "cell_type": "code",
   "execution_count": null,
   "metadata": {
    "collapsed": true
   },
   "outputs": [],
   "source": []
  }
 ],
 "metadata": {
  "kernelspec": {
   "display_name": "Python 2",
   "language": "python",
   "name": "python2"
  },
  "language_info": {
   "codemirror_mode": {
    "name": "ipython",
    "version": 2
   },
   "file_extension": ".py",
   "mimetype": "text/x-python",
   "name": "python",
   "nbconvert_exporter": "python",
   "pygments_lexer": "ipython2",
   "version": "2.7.14"
  }
 },
 "nbformat": 4,
 "nbformat_minor": 2
}
